{
 "cells": [
  {
   "cell_type": "markdown",
   "metadata": {},
   "source": [
    "# Simple Hello World"
   ]
  },
  {
   "cell_type": "code",
   "execution_count": 18,
   "metadata": {},
   "outputs": [
    {
     "data": {
      "text/plain": [
       "Hello World !"
      ]
     },
     "execution_count": 18,
     "metadata": {},
     "output_type": "execute_result"
    }
   ],
   "source": [
    "String message = \"Hello\";\n",
    "\n",
    "message + \" World !\""
   ]
  },
  {
   "cell_type": "code",
   "execution_count": 58,
   "metadata": {},
   "outputs": [],
   "source": [
    "import java.util.Scanner"
   ]
  },
  {
   "cell_type": "code",
   "execution_count": null,
   "metadata": {},
   "outputs": [],
   "source": []
  },
  {
   "cell_type": "code",
   "execution_count": 62,
   "metadata": {},
   "outputs": [
    {
     "name": "stdout",
     "output_type": "stream",
     "text": [
      "+----------+------+-----+-------+\n",
      "| Produit  | PU   | Qté | Prix  |\n",
      "+----------+------+-----+-------+\n",
      "| Stylos   | 1.20 |  34 | 40.80 |\n",
      "| Cahiers  | 3.50 |  12 | 42.00 |\n",
      "+----------+------+-----+-------+\n",
      "| Total    |      |     | 82.80 |\n",
      "+----------+------+-----+-------+\n"
     ]
    }
   ],
   "source": [
    "// ETAPE 4\n",
    "// Déclaration et initialisation des variables\n",
    "Scanner clavier = new Scanner (System.in);\n",
    "String nomProduit1 = \"Stylos\";\n",
    "double prixUnitaire1 = 1.20;\n",
    "quantite1 = clavier.nextInt();\n",
    "double prixTotal1 = prixUnitaire1 * quantite1;\n",
    "\n",
    "String nomProduit2 = \"Cahiers\";\n",
    "double prixUnitaire2 = 3.50;\n",
    "quantite2 = clavier.nextInt();\n",
    "double prixTotal2 = prixUnitaire2 * quantite2;\n",
    "\n",
    "double total = prixTotal1 + prixTotal2;\n",
    "\n",
    "// Affichage du tableau avec printf pour formater les valeurs\n",
    "System.out.println(\"+----------+------+-----+-------+\");\n",
    "System.out.println(\"| Produit  | PU   | Qté | Prix  |\");\n",
    "System.out.println(\"+----------+------+-----+-------+\");\n",
    "System.out.printf(\"| %-8s | %.2f | %3d | %5.2f |\\n\", nomProduit1, prixUnitaire1, quantite1, prixTotal1);\n",
    "System.out.printf(\"| %-8s | %.2f | %3d | %5.2f |\\n\", nomProduit2, prixUnitaire2, quantite2, prixTotal2);\n",
    "System.out.println(\"+----------+------+-----+-------+\");\n",
    "System.out.printf(\"| %-8s |      |     | %5.2f |\\n\", \"Total\", total);\n",
    "System.out.println(\"+----------+------+-----+-------+\");\n"
   ]
  },
  {
   "cell_type": "code",
   "execution_count": 51,
   "metadata": {},
   "outputs": [
    {
     "name": "stdout",
     "output_type": "stream",
     "text": [
      "+----------+------+-----+-------+\n",
      "| Produit  | PU   | Qté | Prix  |\n",
      "+----------+------+-----+-------+\n",
      "| Stylos   | 1.20 |   5 |  6.00 |\n",
      "| Cahiers  | 3.50 |   2 |  7.00 |\n",
      "+----------+------+-----+-------+\n",
      "| Total    |      |     | 13.00 |\n",
      "+----------+------+-----+-------+\n"
     ]
    }
   ],
   "source": [
    "// ETAPE 3\n",
    "\n",
    "// Déclaration et initialisation des variables\n",
    "String nomProduit1 = \"Stylos\";\n",
    "double prixUnitaire1 = 1.20;\n",
    "int quantite1 = 5;\n",
    "double prixTotal1 = prixUnitaire1 * quantite1;\n",
    "\n",
    "String nomProduit2 = \"Cahiers\";\n",
    "double prixUnitaire2 = 3.50;\n",
    "int quantite2 = 2;\n",
    "double prixTotal2 = prixUnitaire2 * quantite2;\n",
    "\n",
    "double total = prixTotal1 + prixTotal2;\n",
    "\n",
    "// Affichage du tableau avec printf pour formater les valeurs\n",
    "System.out.println(\"+----------+------+-----+-------+\");\n",
    "System.out.println(\"| Produit  | PU   | Qté | Prix  |\");\n",
    "System.out.println(\"+----------+------+-----+-------+\");\n",
    "System.out.printf(\"| %-8s | %.2f | %3d | %5.2f |\\n\", nomProduit1, prixUnitaire1, quantite1, prixTotal1);\n",
    "System.out.printf(\"| %-8s | %.2f | %3d | %5.2f |\\n\", nomProduit2, prixUnitaire2, quantite2, prixTotal2);\n",
    "System.out.println(\"+----------+------+-----+-------+\");\n",
    "System.out.printf(\"| %-8s |      |     | %5.2f |\\n\", \"Total\", total);\n",
    "System.out.println(\"+----------+------+-----+-------+\");\n"
   ]
  },
  {
   "cell_type": "code",
   "execution_count": null,
   "metadata": {},
   "outputs": [
    {
     "name": "stdout",
     "output_type": "stream",
     "text": [
      "+----------+------+-----+------+\n",
      "| Produit  | PU   | Qté | Prix |\n",
      "+----------+------+-----+------+\n"
     ]
    },
    {
     "name": "stdout",
     "output_type": "stream",
     "text": [
      "| Stylos   | 1.20 |  5  | 6.00 |\n",
      "| Cahiers  | 3.50 |  2  | 7.00 |\n",
      "+----------+------+-----+------+\n",
      "| Total    |      |     |13.00 |\n",
      "+----------+------+-----+------+\n"
     ]
    }
   ],
   "source": [
    " // ETAPE 2\n",
    " \n",
    " System.out.print(\"+----------+------+-----+------+\\n\");\n",
    " System.out.print(\"| Produit  | PU   | Qté | Prix |\\n\");\n",
    " System.out.print(\"+----------+------+-----+------+\\n\");\n",
    " System.out.print(\"| Stylos   | 1.20 |  5  | 6.00 |\\n\");\n",
    " System.out.print(\"| Cahiers  | 3.50 |  2  | 7.00 |\\n\");\n",
    " System.out.print(\"+----------+------+-----+------+\\n\");\n",
    " System.out.print(\"| Total    |      |     |13.00 |\\n\");\n",
    " System.out.print(\"+----------+------+-----+------+\\n\");\n"
   ]
  }
 ],
 "metadata": {
  "kernelspec": {
   "display_name": "Java (rjk 2.2.0)",
   "language": "java",
   "name": "rapaio-jupyter-kernel"
  },
  "language_info": {
   "codemirror_mode": "java",
   "file_extension": ".jshell",
   "mimetype": "text/x-java-source",
   "name": "java",
   "nbconvert_exporter": "script",
   "pygments_lexer": "java",
   "version": "21.0.5+11-LTS"
  }
 },
 "nbformat": 4,
 "nbformat_minor": 2
}
